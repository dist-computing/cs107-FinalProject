{
 "cells": [
  {
   "cell_type": "markdown",
   "metadata": {
    "cell_id": "00001-e68862da-87bf-4f7a-bf9f-564dc1d8bf48",
    "tags": []
   },
   "source": [
    "# Introduction\n",
    "\n",
    "This software solves the issue of accurate differentiation. \n",
    "Accurate differentiation is important for many fields such as machine learning, numerical methods and optimization. \n",
    "Being able to accuratelly know the derivative of a non-linear function allows programers and mathematicians to quickly\n",
    "take derivatives when the focus of their research or project does not rely on the actual steps of differentiating a function,\n",
    "but simply finding the correct answer for the derivative of a given equation to move forward in their work. \n",
    "\n",
    "This software package will do just that for N number of variables and complex derivatives that would otherwise be \n",
    "extremely challenging to evaluate. This process should help minimize errors as compared to numerical methods.\n",
    "\n",
    "\n"
   ]
  },
  {
   "cell_type": "markdown",
   "metadata": {
    "cell_id": "00003-c39eab7e-555f-482f-8d93-5c0eac2b7214",
    "tags": []
   },
   "source": [
    "# Background\n",
    "\n",
    "The mathematical background behind automatic differentiation breaks downs the process of differentiation \n",
    "into specific and iterable steps. It does so by breaking down the equatiosn to elementary arithmetic operations\n",
    "such as addition, subtraction, multiplication, division, power, expoential, logarithmic, cos, sin, tan, etc. \n",
    "To perform this process, automatic differentiation uses the chain rule to brake down its derivative into easily solvable compoents.\n",
    "The benefit of this approach is that it allows the derivative evaluation to be as accurate as possible up to computer precision, unlike numerical differentiation. \n",
    "\n"
   ]
  },
  {
   "cell_type": "markdown",
   "metadata": {
    "cell_id": "00004-ac47a045-80c2-446d-ba27-8e45a2ed2140",
    "tags": []
   },
   "source": [
    "# How to use _AAD_ (\"Awesome Automatic Differentiation\")\n",
    "\n",
    "## Initialization\n",
    "\n",
    "* `git clone` this package repository into your project directory.\n",
    "* Import our package using `import AAD`\n",
    "* Consult the documentation for quick examples to get started.\n",
    "\n",
    "## Code example\n",
    "```python\n",
    "import AAD\n",
    "import math\n",
    "my_AD = AAD(math.log)\n",
    "my_AD.derive()\n",
    "val, derivative = my_AD.evaluate(5) # for x = 5, type Dual\n",
    "print(\"val = \", val, \", derivative = \", derivative)\n",
    "```\n",
    "Answer:\n",
    "```\n",
    "<AAD: automatically differentiated in 10 iterations>\n",
    "val = 1.60943791, derivative = 0.200\n",
    "```"
   ]
  },
  {
   "cell_type": "markdown",
   "metadata": {
    "cell_id": "00005-b99874cd-41eb-484e-ace5-37103543cc0e",
    "tags": []
   },
   "source": [
    "# Organization\n",
    "\n",
    "## Directory structure and modules\n",
    "We will have a main importable class that contains the directions for each function and how to use them. Furthermore, we will break down different components of the computation into different folders that be imported by the main class. That way we keep the structure of the code clear, readable and understandable. We will also provide example .py files for users to dig into how to use the code. In the `docs` directory, we will keep the documatation for all the code and we plan on creating a GitHub Pages to host it in a website format.\n",
    "\n",
    "## Modules\n",
    "\n",
    "* The modules that we will use are `numpy`, `math`, `SimPy`, `SciPy`\n",
    "   * `numpy` will be used in order to evaluate and analyze arrays.\n",
    "   * `math` will be used in for its access to simple mathematical functions.\n",
    "   * `SimPy` will potentially be used to take symbolic derivatives and will be useful in our test suite. Additionally,\n",
    "   if a function is not in our elementary functions, we can use this module to help evaluate them.\n",
    "   * `SciPy` will be useful to test how our automatic differentiator compares to numeric derivatives (speed test).\n",
    "\n",
    "## Test suite\n",
    "* Our test suite will live inside the `tests` folder within our main repository.\n",
    "* We will use `TravisCI` to test our suite.\n",
    "\n",
    "## Distribution and packaging\n",
    "* We will distribute this package using `PyPI` and through the GitHub repository.\n",
    "* We will use `package`, which will package our package and we will not use a frameowrk. We will not use a framework\n",
    "because this project is simple enough where we can manage without one\n"
   ]
  },
  {
   "cell_type": "markdown",
   "metadata": {
    "cell_id": "00006-4cfa2f29-aacc-4921-bb47-5408f35f4626",
    "tags": []
   },
   "source": [
    "# Implementation\n",
    "\n",
    "## Data structures\n",
    "The core data structures of this software consist of a `Dual` number class holding dual numbers and auxiliary classes to hold elementary functions required to perform algebra with `Dual` numbers.\n",
    "\n",
    "## Classes and method signatures\n",
    "### The `Dual` number class\n",
    "Includes representation and string functions, i.e. `__repr__` and `__str__`.\n",
    "\n",
    "Allows retrieval of the function value (i.e. `val()`) and derivative value (i.e. `deriv()`).\n",
    "\n",
    "### The `AAD` class\n",
    "Includes APIs used for performing Automatic Differentiation, such as:\n",
    "* `derivative(f, x)`\n",
    "* `gradient(f, x)`\n",
    "* `jacobian(f, x)`\n",
    "* `hessian(f, x)`\n",
    "\n",
    "### Attributes\n",
    "Our classes will have the following attributes\n",
    "* `__init__(f)` -- initialization and all variables\n",
    "* `orderofoperations()`  -- finding the order of operations\n",
    "* `derive()` -- finding the derivatives of each function\n",
    "* `evaluate(X)` evaluating the functions and its derivatives at a given point\n",
    "\n",
    "### External dependencies\n",
    "For matrix support, this software package requires `numpy`, `math`, `SimPy`, `SciPy`.\n",
    "\n",
    "### Elementary functions\n",
    "Elementary functions are implemented using built-in Python `math` and the `numpy` package and include ready-made implementations for `Dual` numbers in this package.\n",
    "\n",
    "To deal with elementary functions such as `sin`, `sqrt`, `log` and `exp` we will manually evaluate them and add them to a database to query."
   ]
  }
 ],
 "metadata": {
  "deepnote_execution_queue": [],
  "deepnote_notebook_id": "ef758f7f-bd31-463e-aa5b-1e58f4dc4de5",
  "kernelspec": {
   "display_name": "Python 3",
   "language": "python",
   "name": "python3"
  },
  "language_info": {
   "codemirror_mode": {
    "name": "ipython",
    "version": 3
   },
   "file_extension": ".py",
   "mimetype": "text/x-python",
   "name": "python",
   "nbconvert_exporter": "python",
   "pygments_lexer": "ipython3",
   "version": "3.7.4"
  }
 },
 "nbformat": 4,
 "nbformat_minor": 4
}
