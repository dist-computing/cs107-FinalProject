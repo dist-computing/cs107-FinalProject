{
 "cells": [
  {
   "cell_type": "markdown",
   "metadata": {},
   "source": [
    "# Milestone 2B - Progess update\n",
    "\n",
    "\n",
    "### Section 1: Tasks each group member has been assigned for Milestone 2\n",
    "* Haipeng:\n",
    "    * Finish Elementary operations/overrides\n",
    "    * Documentation Section Responsibilities: “How to your package””\n",
    "    * Minimum Package requirements miscellaneous completion\n",
    "    * Complete core Forward mode library code\n",
    "\n",
    "\n",
    "* Matheus:\n",
    "    * Leading on creating test suit\n",
    "    * Documentation Section Responsibilities: “Implementation Details”\n",
    "    * Minimum implementation requirements miscellaneous completion\n",
    "\n",
    "\n",
    "* Benjamin:\n",
    "    * Documentation Section Responsibilities: “Software organization”\n",
    "    * Assisting on creating test suite\n",
    "    * Overall Documentation checker\n",
    "    * responsible for future features section writeup\n",
    "\n",
    "\n",
    "* Group – All group members must:\n",
    "    * Run test suites on local machine to make sure they work\n",
    "    * Find a friend to use the completed work from Milestone 2 who knows python\n",
    "        * Have this friend use our AD class successfully without help, otherwise, make more user friendly\n",
    "    * Read through all documentation to make sure it is edited, correct, and east to read\n",
    "    * Group brainstorm on future features to implement for next milestone\n",
    "\n",
    "### Section 2: Tasks each group member has completed since submission of Milestone 1\n",
    "* Haipeng: \n",
    "    * updated the organization section for milestone 2A\n",
    "    * Started coding elementary operations/overrides\n",
    "    * Setup organization for repositories\n",
    "\n",
    "\n",
    "* Matheus:\n",
    "    * Updated background and introduction sections in milestone 2A\n",
    "    * Collaborated on coding elementary derivative functions\n",
    "    * Created requirements.txt file and implemented downloadable operations\n",
    "    * Set up dependencies\n",
    "\n",
    "\n",
    "* Benjamin:\n",
    "    * Updated the implementations sections in milestone 2A\n",
    "    * Wrote all of milestone 2B\n",
    "    * Collaborated on coding elementary derivative functions\n"
   ]
  },
  {
   "cell_type": "code",
   "execution_count": null,
   "metadata": {},
   "outputs": [],
   "source": []
  }
 ],
 "metadata": {
  "kernelspec": {
   "display_name": "Python 3",
   "language": "python",
   "name": "python3"
  },
  "language_info": {
   "codemirror_mode": {
    "name": "ipython",
    "version": 3
   },
   "file_extension": ".py",
   "mimetype": "text/x-python",
   "name": "python",
   "nbconvert_exporter": "python",
   "pygments_lexer": "ipython3",
   "version": "3.8.5"
  }
 },
 "nbformat": 4,
 "nbformat_minor": 4
}
